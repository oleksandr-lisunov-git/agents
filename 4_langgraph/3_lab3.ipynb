{
 "cells": [
  {
   "cell_type": "markdown",
   "metadata": {},
   "source": [
    "## Welcome to Week 4, Day 4\n",
    "\n",
    "This is the start of an AWESOME project! Really simple and very effective."
   ]
  },
  {
   "cell_type": "code",
   "execution_count": 1,
   "metadata": {},
   "outputs": [],
   "source": [
    "from typing import Annotated\n",
    "from typing_extensions import TypedDict\n",
    "from langgraph.graph import StateGraph, START\n",
    "from langgraph.graph.message import add_messages\n",
    "from dotenv import load_dotenv\n",
    "from IPython.display import Image, display\n",
    "import gradio as gr\n",
    "from langgraph.prebuilt import ToolNode, tools_condition\n",
    "import requests\n",
    "import os\n",
    "from langchain.agents import Tool\n",
    "\n",
    "from langchain_openai import ChatOpenAI\n",
    "from langgraph.checkpoint.memory import MemorySaver"
   ]
  },
  {
   "cell_type": "code",
   "execution_count": 2,
   "metadata": {},
   "outputs": [
    {
     "data": {
      "text/plain": [
       "True"
      ]
     },
     "execution_count": 2,
     "metadata": {},
     "output_type": "execute_result"
    }
   ],
   "source": [
    "load_dotenv(override=True)"
   ]
  },
  {
   "cell_type": "code",
   "execution_count": 10,
   "metadata": {},
   "outputs": [
    {
     "name": "stdout",
     "output_type": "stream",
     "text": [
      "v22.18.0\n"
     ]
    }
   ],
   "source": [
    "!node --version"
   ]
  },
  {
   "cell_type": "code",
   "execution_count": 11,
   "metadata": {},
   "outputs": [
    {
     "name": "stdout",
     "output_type": "stream",
     "text": [
      "10.9.3\n",
      "\u001b[1G\u001b[0K"
     ]
    }
   ],
   "source": [
    "!npx --version"
   ]
  },
  {
   "cell_type": "code",
   "execution_count": 12,
   "metadata": {},
   "outputs": [
    {
     "name": "stdout",
     "output_type": "stream",
     "text": [
      "Downloading Chromium 136.0.7103.25 (playwright build v1169)\u001b[2m from https://cdn.playwright.dev/dbazure/download/playwright/builds/chromium/1169/chromium-mac.zip\u001b[22m\n",
      "\u001b[1G131.9 MiB [                    ] 0% 0.0s\u001b[0K\u001b[1G131.9 MiB [                    ] 0% 71.3s\u001b[0K\u001b[1G131.9 MiB [                    ] 0% 55.1s\u001b[0K\u001b[1G131.9 MiB [                    ] 0% 47.9s\u001b[0K\u001b[1G131.9 MiB [                    ] 0% 34.2s\u001b[0K\u001b[1G131.9 MiB [                    ] 0% 30.4s\u001b[0K\u001b[1G131.9 MiB [                    ] 0% 22.1s\u001b[0K\u001b[1G131.9 MiB [                    ] 0% 18.0s\u001b[0K\u001b[1G131.9 MiB [                    ] 1% 13.2s\u001b[0K\u001b[1G131.9 MiB [                    ] 1% 10.3s\u001b[0K\u001b[1G131.9 MiB [                    ] 2% 8.0s\u001b[0K\u001b[1G131.9 MiB [=                   ] 2% 6.8s\u001b[0K\u001b[1G131.9 MiB [=                   ] 3% 5.9s\u001b[0K\u001b[1G131.9 MiB [=                   ] 4% 5.3s\u001b[0K\u001b[1G131.9 MiB [=                   ] 5% 4.4s\u001b[0K\u001b[1G131.9 MiB [=                   ] 6% 4.0s\u001b[0K\u001b[1G131.9 MiB [=                   ] 6% 3.9s\u001b[0K\u001b[1G131.9 MiB [==                  ] 7% 3.7s\u001b[0K\u001b[1G131.9 MiB [==                  ] 8% 3.6s\u001b[0K\u001b[1G131.9 MiB [==                  ] 9% 3.3s\u001b[0K\u001b[1G131.9 MiB [==                  ] 10% 3.1s\u001b[0K\u001b[1G131.9 MiB [==                  ] 11% 2.9s\u001b[0K\u001b[1G131.9 MiB [==                  ] 12% 2.8s\u001b[0K\u001b[1G131.9 MiB [===                 ] 13% 2.6s\u001b[0K\u001b[1G131.9 MiB [===                 ] 14% 2.5s\u001b[0K\u001b[1G131.9 MiB [===                 ] 15% 2.3s\u001b[0K\u001b[1G131.9 MiB [===                 ] 16% 2.3s\u001b[0K\u001b[1G131.9 MiB [===                 ] 17% 2.2s\u001b[0K\u001b[1G131.9 MiB [====                ] 18% 2.2s\u001b[0K\u001b[1G131.9 MiB [====                ] 19% 2.1s\u001b[0K\u001b[1G131.9 MiB [====                ] 20% 2.0s\u001b[0K\u001b[1G131.9 MiB [====                ] 21% 2.0s\u001b[0K\u001b[1G131.9 MiB [====                ] 22% 1.9s\u001b[0K\u001b[1G131.9 MiB [=====               ] 23% 1.8s\u001b[0K\u001b[1G131.9 MiB [=====               ] 24% 1.8s\u001b[0K\u001b[1G131.9 MiB [=====               ] 25% 1.7s\u001b[0K\u001b[1G131.9 MiB [=====               ] 26% 1.7s\u001b[0K\u001b[1G131.9 MiB [======              ] 27% 1.6s\u001b[0K\u001b[1G131.9 MiB [======              ] 28% 1.6s\u001b[0K\u001b[1G131.9 MiB [======              ] 29% 1.6s\u001b[0K\u001b[1G131.9 MiB [======              ] 30% 1.5s\u001b[0K\u001b[1G131.9 MiB [======              ] 31% 1.5s\u001b[0K\u001b[1G131.9 MiB [=======             ] 32% 1.4s\u001b[0K\u001b[1G131.9 MiB [=======             ] 33% 1.4s\u001b[0K\u001b[1G131.9 MiB [=======             ] 34% 1.4s\u001b[0K\u001b[1G131.9 MiB [=======             ] 36% 1.3s\u001b[0K\u001b[1G131.9 MiB [=======             ] 37% 1.3s\u001b[0K\u001b[1G131.9 MiB [========            ] 38% 1.3s\u001b[0K\u001b[1G131.9 MiB [========            ] 39% 1.2s\u001b[0K\u001b[1G131.9 MiB [========            ] 40% 1.2s\u001b[0K\u001b[1G131.9 MiB [========            ] 41% 1.2s\u001b[0K\u001b[1G131.9 MiB [=========           ] 43% 1.1s\u001b[0K\u001b[1G131.9 MiB [=========           ] 44% 1.2s\u001b[0K\u001b[1G131.9 MiB [=========           ] 45% 1.2s\u001b[0K\u001b[1G131.9 MiB [=========           ] 46% 1.1s\u001b[0K\u001b[1G131.9 MiB [=========           ] 46% 1.2s\u001b[0K\u001b[1G131.9 MiB [==========          ] 48% 1.1s\u001b[0K\u001b[1G131.9 MiB [==========          ] 49% 1.1s\u001b[0K\u001b[1G131.9 MiB [==========          ] 50% 1.1s\u001b[0K\u001b[1G131.9 MiB [==========          ] 51% 1.1s\u001b[0K\u001b[1G131.9 MiB [==========          ] 52% 1.1s\u001b[0K\u001b[1G131.9 MiB [===========         ] 52% 1.1s\u001b[0K\u001b[1G131.9 MiB [===========         ] 53% 1.1s\u001b[0K\u001b[1G131.9 MiB [===========         ] 53% 1.2s\u001b[0K\u001b[1G131.9 MiB [===========         ] 55% 1.1s\u001b[0K\u001b[1G131.9 MiB [===========         ] 56% 1.1s\u001b[0K\u001b[1G131.9 MiB [============        ] 57% 1.0s\u001b[0K\u001b[1G131.9 MiB [============        ] 58% 1.0s\u001b[0K\u001b[1G131.9 MiB [============        ] 59% 1.0s\u001b[0K\u001b[1G131.9 MiB [============        ] 60% 1.0s\u001b[0K\u001b[1G131.9 MiB [============        ] 61% 0.9s\u001b[0K\u001b[1G131.9 MiB [============        ] 62% 0.9s\u001b[0K\u001b[1G131.9 MiB [=============       ] 63% 0.9s\u001b[0K\u001b[1G131.9 MiB [=============       ] 64% 0.9s\u001b[0K\u001b[1G131.9 MiB [=============       ] 65% 0.9s\u001b[0K\u001b[1G131.9 MiB [=============       ] 66% 0.8s\u001b[0K\u001b[1G131.9 MiB [=============       ] 67% 0.8s\u001b[0K\u001b[1G131.9 MiB [==============      ] 67% 0.8s\u001b[0K\u001b[1G131.9 MiB [==============      ] 68% 0.8s\u001b[0K\u001b[1G131.9 MiB [==============      ] 69% 0.8s\u001b[0K\u001b[1G131.9 MiB [==============      ] 70% 0.7s\u001b[0K\u001b[1G131.9 MiB [==============      ] 71% 0.7s\u001b[0K\u001b[1G131.9 MiB [==============      ] 72% 0.7s\u001b[0K\u001b[1G131.9 MiB [===============     ] 73% 0.6s\u001b[0K\u001b[1G131.9 MiB [===============     ] 74% 0.6s\u001b[0K\u001b[1G131.9 MiB [===============     ] 75% 0.6s\u001b[0K\u001b[1G131.9 MiB [===============     ] 77% 0.6s\u001b[0K\u001b[1G131.9 MiB [================    ] 78% 0.5s\u001b[0K\u001b[1G131.9 MiB [================    ] 79% 0.5s\u001b[0K\u001b[1G131.9 MiB [================    ] 80% 0.5s\u001b[0K\u001b[1G131.9 MiB [================    ] 81% 0.5s\u001b[0K\u001b[1G131.9 MiB [================    ] 82% 0.4s\u001b[0K\u001b[1G131.9 MiB [=================   ] 83% 0.4s\u001b[0K\u001b[1G131.9 MiB [=================   ] 84% 0.4s\u001b[0K\u001b[1G131.9 MiB [=================   ] 85% 0.4s\u001b[0K\u001b[1G131.9 MiB [=================   ] 86% 0.3s\u001b[0K\u001b[1G131.9 MiB [==================  ] 87% 0.3s\u001b[0K\u001b[1G131.9 MiB [==================  ] 88% 0.3s\u001b[0K\u001b[1G131.9 MiB [==================  ] 89% 0.3s\u001b[0K\u001b[1G131.9 MiB [==================  ] 90% 0.2s\u001b[0K\u001b[1G131.9 MiB [==================  ] 91% 0.2s\u001b[0K\u001b[1G131.9 MiB [==================  ] 92% 0.2s\u001b[0K\u001b[1G131.9 MiB [=================== ] 92% 0.2s\u001b[0K\u001b[1G131.9 MiB [=================== ] 93% 0.2s\u001b[0K\u001b[1G131.9 MiB [=================== ] 94% 0.1s\u001b[0K\u001b[1G131.9 MiB [=================== ] 95% 0.1s\u001b[0K\u001b[1G131.9 MiB [=================== ] 96% 0.1s\u001b[0K\u001b[1G131.9 MiB [=================== ] 97% 0.1s\u001b[0K\u001b[1G131.9 MiB [====================] 98% 0.0s\u001b[0K\u001b[1G131.9 MiB [====================] 99% 0.0s\u001b[0K\u001b[1G131.9 MiB [====================] 100% 0.0s\u001b[0K\n",
      "Chromium 136.0.7103.25 (playwright build v1169) downloaded to /Users/lisunovalexandr/Library/Caches/ms-playwright/chromium-1169\n",
      "Downloading Chromium Headless Shell 136.0.7103.25 (playwright build v1169)\u001b[2m from https://cdn.playwright.dev/dbazure/download/playwright/builds/chromium/1169/chromium-headless-shell-mac.zip\u001b[22m\n",
      "\u001b[1G82.8 MiB [                    ] 0% 0.0s\u001b[0K\u001b[1G82.8 MiB [                    ] 0% 45.9s\u001b[0K\u001b[1G82.8 MiB [                    ] 0% 33.7s\u001b[0K\u001b[1G82.8 MiB [                    ] 0% 23.5s\u001b[0K\u001b[1G82.8 MiB [                    ] 0% 20.8s\u001b[0K\u001b[1G82.8 MiB [                    ] 0% 15.3s\u001b[0K\u001b[1G82.8 MiB [                    ] 0% 15.8s\u001b[0K\u001b[1G82.8 MiB [                    ] 1% 9.5s\u001b[0K\u001b[1G82.8 MiB [                    ] 1% 10.7s\u001b[0K\u001b[1G82.8 MiB [                    ] 2% 7.8s\u001b[0K\u001b[1G82.8 MiB [=                   ] 2% 6.5s\u001b[0K\u001b[1G82.8 MiB [=                   ] 3% 5.6s\u001b[0K\u001b[1G82.8 MiB [=                   ] 5% 4.2s\u001b[0K\u001b[1G82.8 MiB [=                   ] 6% 3.6s\u001b[0K\u001b[1G82.8 MiB [=                   ] 7% 3.2s\u001b[0K\u001b[1G82.8 MiB [==                  ] 8% 2.8s\u001b[0K\u001b[1G82.8 MiB [==                  ] 10% 2.5s\u001b[0K\u001b[1G82.8 MiB [==                  ] 11% 2.5s\u001b[0K\u001b[1G82.8 MiB [===                 ] 12% 2.3s\u001b[0K\u001b[1G82.8 MiB [===                 ] 14% 2.1s\u001b[0K\u001b[1G82.8 MiB [===                 ] 14% 2.2s\u001b[0K\u001b[1G82.8 MiB [===                 ] 15% 2.2s\u001b[0K\u001b[1G82.8 MiB [===                 ] 16% 2.2s\u001b[0K\u001b[1G82.8 MiB [===                 ] 16% 2.3s\u001b[0K\u001b[1G82.8 MiB [====                ] 18% 2.1s\u001b[0K\u001b[1G82.8 MiB [====                ] 19% 2.0s\u001b[0K\u001b[1G82.8 MiB [====                ] 21% 1.9s\u001b[0K\u001b[1G82.8 MiB [====                ] 22% 1.8s\u001b[0K\u001b[1G82.8 MiB [=====               ] 23% 1.7s\u001b[0K\u001b[1G82.8 MiB [=====               ] 25% 1.6s\u001b[0K\u001b[1G82.8 MiB [=====               ] 26% 1.6s\u001b[0K\u001b[1G82.8 MiB [=====               ] 27% 1.6s\u001b[0K\u001b[1G82.8 MiB [======              ] 28% 1.6s\u001b[0K\u001b[1G82.8 MiB [======              ] 30% 1.5s\u001b[0K\u001b[1G82.8 MiB [======              ] 32% 1.4s\u001b[0K\u001b[1G82.8 MiB [=======             ] 32% 1.4s\u001b[0K\u001b[1G82.8 MiB [=======             ] 34% 1.3s\u001b[0K\u001b[1G82.8 MiB [=======             ] 35% 1.3s\u001b[0K\u001b[1G82.8 MiB [=======             ] 37% 1.2s\u001b[0K\u001b[1G82.8 MiB [========            ] 38% 1.2s\u001b[0K\u001b[1G82.8 MiB [========            ] 39% 1.1s\u001b[0K\u001b[1G82.8 MiB [========            ] 41% 1.1s\u001b[0K\u001b[1G82.8 MiB [=========           ] 42% 1.1s\u001b[0K\u001b[1G82.8 MiB [=========           ] 44% 1.0s\u001b[0K\u001b[1G82.8 MiB [=========           ] 45% 1.0s\u001b[0K\u001b[1G82.8 MiB [=========           ] 47% 0.9s\u001b[0K\u001b[1G82.8 MiB [==========          ] 48% 0.9s\u001b[0K\u001b[1G82.8 MiB [==========          ] 50% 0.9s\u001b[0K\u001b[1G82.8 MiB [==========          ] 51% 0.8s\u001b[0K\u001b[1G82.8 MiB [===========         ] 53% 0.8s\u001b[0K\u001b[1G82.8 MiB [===========         ] 55% 0.7s\u001b[0K\u001b[1G82.8 MiB [===========         ] 57% 0.7s\u001b[0K\u001b[1G82.8 MiB [============        ] 58% 0.7s\u001b[0K\u001b[1G82.8 MiB [============        ] 60% 0.6s\u001b[0K\u001b[1G82.8 MiB [============        ] 61% 0.6s\u001b[0K\u001b[1G82.8 MiB [=============       ] 63% 0.6s\u001b[0K\u001b[1G82.8 MiB [=============       ] 64% 0.6s\u001b[0K\u001b[1G82.8 MiB [=============       ] 66% 0.5s\u001b[0K\u001b[1G82.8 MiB [==============      ] 67% 0.5s\u001b[0K\u001b[1G82.8 MiB [==============      ] 69% 0.5s\u001b[0K\u001b[1G82.8 MiB [==============      ] 70% 0.5s\u001b[0K\u001b[1G82.8 MiB [==============      ] 71% 0.4s\u001b[0K\u001b[1G82.8 MiB [===============     ] 73% 0.4s\u001b[0K\u001b[1G82.8 MiB [===============     ] 74% 0.4s\u001b[0K\u001b[1G82.8 MiB [===============     ] 75% 0.4s\u001b[0K\u001b[1G82.8 MiB [===============     ] 76% 0.4s\u001b[0K\u001b[1G82.8 MiB [================    ] 78% 0.3s\u001b[0K\u001b[1G82.8 MiB [================    ] 79% 0.3s\u001b[0K\u001b[1G82.8 MiB [================    ] 81% 0.3s\u001b[0K\u001b[1G82.8 MiB [=================   ] 82% 0.3s\u001b[0K\u001b[1G82.8 MiB [=================   ] 84% 0.2s\u001b[0K\u001b[1G82.8 MiB [=================   ] 86% 0.2s\u001b[0K\u001b[1G82.8 MiB [==================  ] 87% 0.2s\u001b[0K\u001b[1G82.8 MiB [==================  ] 89% 0.2s\u001b[0K\u001b[1G82.8 MiB [==================  ] 90% 0.1s\u001b[0K\u001b[1G82.8 MiB [==================  ] 91% 0.1s\u001b[0K\u001b[1G82.8 MiB [==================  ] 92% 0.1s\u001b[0K\u001b[1G82.8 MiB [=================== ] 93% 0.1s\u001b[0K\u001b[1G82.8 MiB [=================== ] 94% 0.1s\u001b[0K\u001b[1G82.8 MiB [=================== ] 96% 0.1s\u001b[0K\u001b[1G82.8 MiB [====================] 98% 0.0s\u001b[0K\u001b[1G82.8 MiB [====================] 99% 0.0s\u001b[0K\u001b[1G82.8 MiB [====================] 100% 0.0s\u001b[0K\n",
      "Chromium Headless Shell 136.0.7103.25 (playwright build v1169) downloaded to /Users/lisunovalexandr/Library/Caches/ms-playwright/chromium_headless_shell-1169\n",
      "Downloading Firefox 137.0 (playwright build v1482)\u001b[2m from https://cdn.playwright.dev/dbazure/download/playwright/builds/firefox/1482/firefox-mac.zip\u001b[22m\n",
      "\u001b[1G91.3 MiB [                    ] 0% 0.0s\u001b[0K\u001b[1G91.3 MiB [                    ] 0% 88.3s\u001b[0K\u001b[1G91.3 MiB [                    ] 0% 49.2s\u001b[0K\u001b[1G91.3 MiB [                    ] 0% 41.2s\u001b[0K\u001b[1G91.3 MiB [                    ] 0% 35.5s\u001b[0K\u001b[1G91.3 MiB [                    ] 0% 28.7s\u001b[0K\u001b[1G91.3 MiB [                    ] 0% 24.0s\u001b[0K\u001b[1G91.3 MiB [                    ] 1% 14.6s\u001b[0K\u001b[1G91.3 MiB [                    ] 1% 13.2s\u001b[0K\u001b[1G91.3 MiB [                    ] 1% 14.6s\u001b[0K\u001b[1G91.3 MiB [=                   ] 2% 9.1s\u001b[0K\u001b[1G91.3 MiB [=                   ] 2% 9.8s\u001b[0K\u001b[1G91.3 MiB [=                   ] 3% 8.8s\u001b[0K\u001b[1G91.3 MiB [=                   ] 4% 7.0s\u001b[0K\u001b[1G91.3 MiB [=                   ] 5% 5.6s\u001b[0K\u001b[1G91.3 MiB [=                   ] 6% 5.4s\u001b[0K\u001b[1G91.3 MiB [=                   ] 6% 6.0s\u001b[0K\u001b[1G91.3 MiB [==                  ] 7% 5.4s\u001b[0K\u001b[1G91.3 MiB [==                  ] 8% 4.9s\u001b[0K\u001b[1G91.3 MiB [==                  ] 10% 4.3s\u001b[0K\u001b[1G91.3 MiB [==                  ] 10% 4.2s\u001b[0K\u001b[1G91.3 MiB [==                  ] 10% 4.3s\u001b[0K\u001b[1G91.3 MiB [==                  ] 12% 4.1s\u001b[0K\u001b[1G91.3 MiB [===                 ] 13% 3.8s\u001b[0K\u001b[1G91.3 MiB [===                 ] 13% 3.7s\u001b[0K\u001b[1G91.3 MiB [===                 ] 15% 3.5s\u001b[0K\u001b[1G91.3 MiB [===                 ] 16% 3.2s\u001b[0K\u001b[1G91.3 MiB [===                 ] 17% 3.2s\u001b[0K\u001b[1G91.3 MiB [====                ] 18% 2.9s\u001b[0K\u001b[1G91.3 MiB [====                ] 19% 2.9s\u001b[0K\u001b[1G91.3 MiB [====                ] 20% 2.9s\u001b[0K\u001b[1G91.3 MiB [====                ] 21% 2.8s\u001b[0K\u001b[1G91.3 MiB [=====               ] 22% 2.7s\u001b[0K\u001b[1G91.3 MiB [=====               ] 23% 2.7s\u001b[0K\u001b[1G91.3 MiB [=====               ] 24% 2.6s\u001b[0K\u001b[1G91.3 MiB [=====               ] 25% 2.6s\u001b[0K\u001b[1G91.3 MiB [=====               ] 26% 2.5s\u001b[0K\u001b[1G91.3 MiB [=====               ] 27% 2.4s\u001b[0K\u001b[1G91.3 MiB [======              ] 28% 2.4s\u001b[0K\u001b[1G91.3 MiB [======              ] 29% 2.3s\u001b[0K\u001b[1G91.3 MiB [======              ] 31% 2.1s\u001b[0K\u001b[1G91.3 MiB [======              ] 32% 2.1s\u001b[0K\u001b[1G91.3 MiB [=======             ] 33% 2.1s\u001b[0K\u001b[1G91.3 MiB [=======             ] 34% 2.0s\u001b[0K\u001b[1G91.3 MiB [=======             ] 35% 1.9s\u001b[0K\u001b[1G91.3 MiB [=======             ] 37% 1.8s\u001b[0K\u001b[1G91.3 MiB [========            ] 38% 1.8s\u001b[0K\u001b[1G91.3 MiB [========            ] 39% 1.7s\u001b[0K\u001b[1G91.3 MiB [========            ] 40% 1.7s\u001b[0K\u001b[1G91.3 MiB [========            ] 41% 1.6s\u001b[0K\u001b[1G91.3 MiB [=========           ] 43% 1.6s\u001b[0K\u001b[1G91.3 MiB [=========           ] 44% 1.5s\u001b[0K\u001b[1G91.3 MiB [=========           ] 45% 1.4s\u001b[0K\u001b[1G91.3 MiB [=========           ] 46% 1.4s\u001b[0K\u001b[1G91.3 MiB [==========          ] 47% 1.4s\u001b[0K\u001b[1G91.3 MiB [==========          ] 48% 1.4s\u001b[0K\u001b[1G91.3 MiB [==========          ] 49% 1.4s\u001b[0K\u001b[1G91.3 MiB [==========          ] 50% 1.3s\u001b[0K\u001b[1G91.3 MiB [==========          ] 51% 1.3s\u001b[0K\u001b[1G91.3 MiB [===========         ] 53% 1.3s\u001b[0K\u001b[1G91.3 MiB [===========         ] 55% 1.2s\u001b[0K\u001b[1G91.3 MiB [===========         ] 56% 1.2s\u001b[0K\u001b[1G91.3 MiB [============        ] 59% 1.1s\u001b[0K\u001b[1G91.3 MiB [============        ] 60% 1.0s\u001b[0K\u001b[1G91.3 MiB [============        ] 62% 1.0s\u001b[0K\u001b[1G91.3 MiB [=============       ] 63% 1.0s\u001b[0K\u001b[1G91.3 MiB [=============       ] 65% 0.9s\u001b[0K\u001b[1G91.3 MiB [==============      ] 67% 0.8s\u001b[0K\u001b[1G91.3 MiB [==============      ] 68% 0.8s\u001b[0K\u001b[1G91.3 MiB [==============      ] 70% 0.8s\u001b[0K\u001b[1G91.3 MiB [==============      ] 71% 0.7s\u001b[0K\u001b[1G91.3 MiB [==============      ] 72% 0.7s\u001b[0K\u001b[1G91.3 MiB [===============     ] 73% 0.7s\u001b[0K\u001b[1G91.3 MiB [===============     ] 74% 0.6s\u001b[0K\u001b[1G91.3 MiB [===============     ] 75% 0.6s\u001b[0K\u001b[1G91.3 MiB [===============     ] 77% 0.6s\u001b[0K\u001b[1G91.3 MiB [================    ] 78% 0.5s\u001b[0K\u001b[1G91.3 MiB [================    ] 79% 0.5s\u001b[0K\u001b[1G91.3 MiB [================    ] 81% 0.4s\u001b[0K\u001b[1G91.3 MiB [================    ] 82% 0.4s\u001b[0K\u001b[1G91.3 MiB [=================   ] 83% 0.4s\u001b[0K\u001b[1G91.3 MiB [=================   ] 84% 0.4s\u001b[0K\u001b[1G91.3 MiB [=================   ] 85% 0.3s\u001b[0K\u001b[1G91.3 MiB [=================   ] 86% 0.3s\u001b[0K\u001b[1G91.3 MiB [==================  ] 88% 0.3s\u001b[0K\u001b[1G91.3 MiB [==================  ] 89% 0.2s\u001b[0K\u001b[1G91.3 MiB [==================  ] 90% 0.2s\u001b[0K\u001b[1G91.3 MiB [=================== ] 92% 0.2s\u001b[0K\u001b[1G91.3 MiB [=================== ] 94% 0.1s\u001b[0K\u001b[1G91.3 MiB [=================== ] 95% 0.1s\u001b[0K\u001b[1G91.3 MiB [====================] 98% 0.0s\u001b[0K\u001b[1G91.3 MiB [====================] 99% 0.0s\u001b[0K\u001b[1G91.3 MiB [====================] 100% 0.0s\u001b[0K\n",
      "Firefox 137.0 (playwright build v1482) downloaded to /Users/lisunovalexandr/Library/Caches/ms-playwright/firefox-1482\n",
      "Downloading Webkit 18.4 (playwright build v2158)\u001b[2m from https://cdn.playwright.dev/dbazure/download/playwright/builds/webkit/2158/webkit-mac-15.zip\u001b[22m\n",
      "\u001b[1G72.2 MiB [                    ] 0% 0.0s\u001b[0K\u001b[1G72.2 MiB [                    ] 0% 47.8s\u001b[0K\u001b[1G72.2 MiB [                    ] 0% 27.4s\u001b[0K\u001b[1G72.2 MiB [                    ] 0% 25.6s\u001b[0K\u001b[1G72.2 MiB [                    ] 0% 20.4s\u001b[0K\u001b[1G72.2 MiB [                    ] 0% 14.6s\u001b[0K\u001b[1G72.2 MiB [                    ] 0% 11.4s\u001b[0K\u001b[1G72.2 MiB [                    ] 1% 8.1s\u001b[0K\u001b[1G72.2 MiB [                    ] 2% 6.2s\u001b[0K\u001b[1G72.2 MiB [=                   ] 2% 5.3s\u001b[0K\u001b[1G72.2 MiB [=                   ] 4% 3.6s\u001b[0K\u001b[1G72.2 MiB [=                   ] 5% 3.1s\u001b[0K\u001b[1G72.2 MiB [=                   ] 7% 2.6s\u001b[0K\u001b[1G72.2 MiB [==                  ] 8% 2.3s\u001b[0K\u001b[1G72.2 MiB [==                  ] 10% 2.0s\u001b[0K\u001b[1G72.2 MiB [===                 ] 12% 1.7s\u001b[0K\u001b[1G72.2 MiB [===                 ] 14% 1.6s\u001b[0K\u001b[1G72.2 MiB [===                 ] 15% 1.6s\u001b[0K\u001b[1G72.2 MiB [====                ] 17% 1.4s\u001b[0K\u001b[1G72.2 MiB [====                ] 19% 1.3s\u001b[0K\u001b[1G72.2 MiB [====                ] 21% 1.2s\u001b[0K\u001b[1G72.2 MiB [=====               ] 23% 1.2s\u001b[0K\u001b[1G72.2 MiB [=====               ] 25% 1.1s\u001b[0K\u001b[1G72.2 MiB [=====               ] 26% 1.1s\u001b[0K\u001b[1G72.2 MiB [======              ] 27% 1.1s\u001b[0K\u001b[1G72.2 MiB [======              ] 29% 1.0s\u001b[0K\u001b[1G72.2 MiB [======              ] 30% 1.0s\u001b[0K\u001b[1G72.2 MiB [=======             ] 32% 0.9s\u001b[0K\u001b[1G72.2 MiB [=======             ] 34% 0.9s\u001b[0K\u001b[1G72.2 MiB [=======             ] 36% 0.9s\u001b[0K\u001b[1G72.2 MiB [========            ] 37% 0.8s\u001b[0K\u001b[1G72.2 MiB [========            ] 39% 0.8s\u001b[0K\u001b[1G72.2 MiB [========            ] 41% 0.8s\u001b[0K\u001b[1G72.2 MiB [========            ] 42% 0.8s\u001b[0K\u001b[1G72.2 MiB [=========           ] 43% 0.7s\u001b[0K\u001b[1G72.2 MiB [=========           ] 45% 0.7s\u001b[0K\u001b[1G72.2 MiB [=========           ] 47% 0.7s\u001b[0K\u001b[1G72.2 MiB [==========          ] 48% 0.6s\u001b[0K\u001b[1G72.2 MiB [==========          ] 50% 0.6s\u001b[0K\u001b[1G72.2 MiB [==========          ] 52% 0.6s\u001b[0K\u001b[1G72.2 MiB [===========         ] 54% 0.6s\u001b[0K\u001b[1G72.2 MiB [===========         ] 55% 0.6s\u001b[0K\u001b[1G72.2 MiB [===========         ] 56% 0.5s\u001b[0K\u001b[1G72.2 MiB [============        ] 57% 0.5s\u001b[0K\u001b[1G72.2 MiB [============        ] 59% 0.5s\u001b[0K\u001b[1G72.2 MiB [============        ] 60% 0.5s\u001b[0K\u001b[1G72.2 MiB [=============       ] 62% 0.5s\u001b[0K\u001b[1G72.2 MiB [=============       ] 64% 0.4s\u001b[0K\u001b[1G72.2 MiB [=============       ] 65% 0.4s\u001b[0K\u001b[1G72.2 MiB [==============      ] 67% 0.4s\u001b[0K\u001b[1G72.2 MiB [==============      ] 69% 0.4s\u001b[0K\u001b[1G72.2 MiB [==============      ] 71% 0.3s\u001b[0K\u001b[1G72.2 MiB [===============     ] 73% 0.3s\u001b[0K\u001b[1G72.2 MiB [===============     ] 74% 0.3s\u001b[0K\u001b[1G72.2 MiB [===============     ] 76% 0.3s\u001b[0K\u001b[1G72.2 MiB [================    ] 78% 0.3s\u001b[0K\u001b[1G72.2 MiB [================    ] 81% 0.2s\u001b[0K\u001b[1G72.2 MiB [=================   ] 82% 0.2s\u001b[0K\u001b[1G72.2 MiB [=================   ] 84% 0.2s\u001b[0K\u001b[1G72.2 MiB [=================   ] 86% 0.2s\u001b[0K\u001b[1G72.2 MiB [=================   ] 87% 0.2s\u001b[0K\u001b[1G72.2 MiB [==================  ] 88% 0.2s\u001b[0K\u001b[1G72.2 MiB [==================  ] 90% 0.2s\u001b[0K\u001b[1G72.2 MiB [==================  ] 92% 0.1s\u001b[0K\u001b[1G72.2 MiB [=================== ] 93% 0.1s\u001b[0K\u001b[1G72.2 MiB [=================== ] 95% 0.1s\u001b[0K\u001b[1G72.2 MiB [=================== ] 96% 0.0s\u001b[0K\u001b[1G72.2 MiB [====================] 98% 0.0s\u001b[0K\u001b[1G72.2 MiB [====================] 100% 0.0s\u001b[0K\n",
      "Webkit 18.4 (playwright build v2158) downloaded to /Users/lisunovalexandr/Library/Caches/ms-playwright/webkit-2158\n",
      "Downloading FFMPEG playwright build v1011\u001b[2m from https://cdn.playwright.dev/dbazure/download/playwright/builds/ffmpeg/1011/ffmpeg-mac.zip\u001b[22m\n",
      "\u001b[1G1.3 MiB [                    ] 0% 0.0s\u001b[0K\u001b[1G1.3 MiB [=                   ] 3% 0.7s\u001b[0K\u001b[1G1.3 MiB [==                  ] 9% 0.5s\u001b[0K\u001b[1G1.3 MiB [====                ] 18% 0.3s\u001b[0K\u001b[1G1.3 MiB [=====               ] 25% 0.2s\u001b[0K\u001b[1G1.3 MiB [=========           ] 44% 0.1s\u001b[0K\u001b[1G1.3 MiB [===============     ] 76% 0.0s\u001b[0K\u001b[1G1.3 MiB [====================] 100% 0.0s\u001b[0K\n",
      "FFMPEG playwright build v1011 downloaded to /Users/lisunovalexandr/Library/Caches/ms-playwright/ffmpeg-1011\n"
     ]
    }
   ],
   "source": [
    "!uv run playwright install"
   ]
  },
  {
   "cell_type": "markdown",
   "metadata": {},
   "source": [
    "### Asynchronous LangGraph\n",
    "\n",
    "To run a tool:  \n",
    "Sync: `tool.run(inputs)`  \n",
    "Async: `await tool.arun(inputs)`\n",
    "\n",
    "To invoke the graph:  \n",
    "Sync: `graph.invoke(state)`  \n",
    "Async: `await graph.ainvoke(state)`"
   ]
  },
  {
   "cell_type": "code",
   "execution_count": 3,
   "metadata": {},
   "outputs": [],
   "source": [
    "class State(TypedDict):\n",
    "    \n",
    "    messages: Annotated[list, add_messages]\n",
    "\n",
    "\n",
    "graph_builder = StateGraph(State)"
   ]
  },
  {
   "cell_type": "code",
   "execution_count": 4,
   "metadata": {},
   "outputs": [],
   "source": [
    "pushover_token = os.getenv(\"PUSHOVER_TOKEN\")\n",
    "pushover_user = os.getenv(\"PUSHOVER_USER\")\n",
    "pushover_url = \"https://api.pushover.net/1/messages.json\"\n",
    "\n",
    "def push(text: str):\n",
    "    \"\"\"Send a push notification to the user\"\"\"\n",
    "    requests.post(pushover_url, data = {\"token\": pushover_token, \"user\": pushover_user, \"message\": text})\n",
    "\n",
    "tool_push = Tool(\n",
    "        name=\"send_push_notification\",\n",
    "        func=push,\n",
    "        description=\"useful for when you want to send a push notification\"\n",
    "    )"
   ]
  },
  {
   "cell_type": "markdown",
   "metadata": {},
   "source": [
    "## Extra installation step - if you don't have Node and Playwright on your computer\n",
    "\n",
    "Next, you need to install NodeJS and Playwright on your computer if you don't already have them. Please see instructions here:\n",
    "\n",
    "[Node and Playwright setup](../setup/SETUP-node.md)"
   ]
  },
  {
   "cell_type": "markdown",
   "metadata": {},
   "source": [
    "## And now - after Installing Playwright, a heads up for Windows PC Users:\n",
    "\n",
    "While executing the next few cells, you might hit a problem with the Playwright browser raising a NotImplementedError.\n",
    "\n",
    "This should work when we move to python modules, but it can cause problems in Windows in a notebook.\n",
    "\n",
    "If you it this error and would like to run the notebook, you need to make a small change which seems quite hacky! You need to do this AFTER installing Playwright (prior cells)\n",
    "\n",
    "1. Right click in `.venv` in the File Explorer on the left and select \"Find in folder\"\n",
    "2. Search for `asyncio.set_event_loop_policy(WindowsSelectorEventLoopPolicy())`  \n",
    "3. That code should be found in a line of code in a file called `kernelapp.py`\n",
    "4. Comment out the entire else clause that this line is a part of - see the fragment below. Be sure to have the \"pass\" statement after the ImportError line.\n",
    "5. Restart the kernel by pressing the \"Restart\" button above\n",
    "\n",
    "```python\n",
    "        if sys.platform.startswith(\"win\") and sys.version_info >= (3, 8):\n",
    "            import asyncio\n",
    " \n",
    "            try:\n",
    "                from asyncio import WindowsProactorEventLoopPolicy, WindowsSelectorEventLoopPolicy\n",
    "            except ImportError:\n",
    "                pass\n",
    "                # not affected\n",
    "           # else:\n",
    "            #    if type(asyncio.get_event_loop_policy()) is WindowsProactorEventLoopPolicy:\n",
    "                    # WindowsProactorEventLoopPolicy is not compatible with tornado 6\n",
    "                    # fallback to the pre-3.8 default of Selector\n",
    "                    # asyncio.set_event_loop_policy(WindowsSelectorEventLoopPolicy())\n",
    "```\n",
    "\n",
    "Thank you to student Nicolas for finding this, and to Kalyan, Yaki, Zibin and Bhaskar for confirming that this worked for them! And to Vladislav for the extra pointers.\n",
    "\n",
    "As an alternative, you can just move to a Python module (which we do anyway in Day 5)"
   ]
  },
  {
   "cell_type": "code",
   "execution_count": 5,
   "metadata": {},
   "outputs": [],
   "source": [
    "# Introducing nest_asyncio\n",
    "# Python async code only allows for one \"event loop\" processing aynchronous events.\n",
    "# The `nest_asyncio` library patches this, and is used for special situations, if you need to run a nested event loop.\n",
    "\n",
    "import nest_asyncio\n",
    "nest_asyncio.apply()"
   ]
  },
  {
   "cell_type": "markdown",
   "metadata": {},
   "source": [
    "### The LangChain community\n",
    "\n",
    "One of the remarkable things about LangChain is the rich community around it.\n",
    "\n",
    "Check this out:\n"
   ]
  },
  {
   "cell_type": "code",
   "execution_count": 35,
   "metadata": {},
   "outputs": [],
   "source": [
    "from langchain_community.agent_toolkits import PlayWrightBrowserToolkit\n",
    "from langchain_community.tools.playwright.utils import create_async_playwright_browser\n",
    "\n",
    "# If you get a NotImplementedError here or later, see the Heads Up at the top of the notebook\n",
    "\n",
    "async_browser =  create_async_playwright_browser(headless=True)  # headful mode\n",
    "toolkit = PlayWrightBrowserToolkit.from_browser(async_browser=async_browser)\n",
    "tools = toolkit.get_tools()"
   ]
  },
  {
   "cell_type": "code",
   "execution_count": 14,
   "metadata": {},
   "outputs": [
    {
     "name": "stdout",
     "output_type": "stream",
     "text": [
      "click_element=async_browser=<Browser type=<BrowserType name=chromium executable_path=/Users/lisunovalexandr/Library/Caches/ms-playwright/chromium-1169/chrome-mac/Chromium.app/Contents/MacOS/Chromium> version=136.0.7103.25>\n",
      "navigate_browser=async_browser=<Browser type=<BrowserType name=chromium executable_path=/Users/lisunovalexandr/Library/Caches/ms-playwright/chromium-1169/chrome-mac/Chromium.app/Contents/MacOS/Chromium> version=136.0.7103.25>\n",
      "previous_webpage=async_browser=<Browser type=<BrowserType name=chromium executable_path=/Users/lisunovalexandr/Library/Caches/ms-playwright/chromium-1169/chrome-mac/Chromium.app/Contents/MacOS/Chromium> version=136.0.7103.25>\n",
      "extract_text=async_browser=<Browser type=<BrowserType name=chromium executable_path=/Users/lisunovalexandr/Library/Caches/ms-playwright/chromium-1169/chrome-mac/Chromium.app/Contents/MacOS/Chromium> version=136.0.7103.25>\n",
      "extract_hyperlinks=async_browser=<Browser type=<BrowserType name=chromium executable_path=/Users/lisunovalexandr/Library/Caches/ms-playwright/chromium-1169/chrome-mac/Chromium.app/Contents/MacOS/Chromium> version=136.0.7103.25>\n",
      "get_elements=async_browser=<Browser type=<BrowserType name=chromium executable_path=/Users/lisunovalexandr/Library/Caches/ms-playwright/chromium-1169/chrome-mac/Chromium.app/Contents/MacOS/Chromium> version=136.0.7103.25>\n",
      "current_webpage=async_browser=<Browser type=<BrowserType name=chromium executable_path=/Users/lisunovalexandr/Library/Caches/ms-playwright/chromium-1169/chrome-mac/Chromium.app/Contents/MacOS/Chromium> version=136.0.7103.25>\n"
     ]
    }
   ],
   "source": [
    "for tool in tools:\n",
    "    print(f\"{tool.name}={tool}\")"
   ]
  },
  {
   "cell_type": "code",
   "execution_count": 36,
   "metadata": {},
   "outputs": [],
   "source": [
    "tool_dict = {tool.name:tool for tool in tools}\n",
    "\n",
    "navigate_tool = tool_dict.get(\"navigate_browser\")\n",
    "extract_text_tool = tool_dict.get(\"extract_text\")\n",
    "\n",
    "    \n",
    "await navigate_tool.arun({\"url\": \"https://www.cnn.com\"})\n",
    "text = await extract_text_tool.arun({})"
   ]
  },
  {
   "cell_type": "code",
   "execution_count": 37,
   "metadata": {},
   "outputs": [
    {
     "name": "stdout",
     "output_type": "stream",
     "text": [
      "Breaking News, Latest News and Videos | CNN CNN values your feedback\n",
      "1. How relevant is this ad to you? 2. Did you encounter any technical\n",
      "issues? Video player was slow to load content Video content never\n",
      "loaded Ad froze or did not finish loading Video content did not start\n",
      "after ad Audio on ad was too loud Other issues Ad never loaded Ad\n",
      "prevented/slowed the page from loading Content moved around while ad\n",
      "loaded Ad was repetitive to ads I've seen previously Other issues\n",
      "Cancel Submit Thank You! Your effort and contribution in providing\n",
      "this feedback is much\n",
      "appreciated. Close Ad Feedback Close icon US World Politics Business\n",
      "Health Entertainment Style Travel Sports Science Climate Weather\n",
      "Ukraine-Russia War Israel-Hamas War Games More US World Politics\n",
      "Business Health Entertainment Style Travel Sports Science Climate\n",
      "Weather Ukraine-Russia War Israel-Hamas War Games Watch Listen Live TV\n",
      "Subscribe Sign in My Account Settings Newsletters Topics you follow\n",
      "Sign out Your CNN account Sign in to your CNN account Sign in My\n",
      "Account Settings Newsletters Topics you follow Sign out Your CNN\n",
      "account Sign in to your CNN account Live TV Listen Watch Edition US\n",
      "International Arabic Español Edition US International Arabic Español\n",
      "World Africa Americas Asia Australia China Europe India Middle East\n",
      "United Kingdom US Politics Trump Facts First CNN Polls 2025 Elections\n",
      "Business Tech Media Calculators Videos Markets Pre-markets After-Hours\n",
      "Fear & Greed Investing Markets Now Nightcap Health Life, But Better\n",
      "Fitness Food Sleep Mindfulness Relationships Entertainment Movies\n",
      "Television Celebrity Tech Innovate Foreseeable Future Mission: Ahead\n",
      "Work Transformed Innovative Cities Style Arts Design Fashion\n",
      "Architecture Luxury Beauty Video Travel Destinations Food & Drink Stay\n",
      "News Videos Sports Football Tennis Golf Motorsport US Sports Olympics\n",
      "Climbing Esports Hockey Science Space Life Unearthed Climate Solutions\n",
      "Weather Weather Video Climate Ukraine-Russia War Israel-Hamas War\n",
      "Features As Equals Call to Earth Freedom Project Impact Your World\n",
      "Inside Africa CNN Heroes Watch Live TV CNN Fast Shows A-Z CNN10 CNN\n",
      "Max CNN TV Schedules Listen CNN 5 Things Chasing Life with Dr. Sanjay\n",
      "Gupta The Assignment with Audie Cornish One Thing Tug of War CNN\n",
      "Political Briefing The Axe Files All There Is with Anderson Cooper All\n",
      "CNN Audio podcasts Games Daily Crossword Jumble Crossword Photo\n",
      "Shuffle Sudoblock Sudoku 5 Things Quiz About CNN Photos Investigations\n",
      "CNN Profiles CNN Leadership CNN Newsletters Work for CNN Follow CNN\n",
      "Trump  trade war Gaza ceasefire plan UK mosque arson attack Mount\n",
      "Everest trekkers rescue Emotional well-being Paris Fashion Week\n",
      "Singapore Grand Prix • Breaking News Breaking News Jim\n",
      "Vondruska/Reuters Breaking News Illinois and Chicago sue Trump\n",
      "administration over deployment of National Guard Laura Cavanaugh/Getty\n",
      "Images Supreme Court rejects appeal from Ghislaine Maxwell Stephane\n",
      "Mahe/Reuters France’s prime minister resigns after less than a month\n",
      "on the job Trump urges Gaza ceasefire negotiators to 'move fast'\n",
      "Show all • Live Updates Live Updates Aaron Schwartz/Reuters • Live\n",
      "Updates Live Updates Live Updates Hamas, Israel and the US set to\n",
      "begin pivotal talks on a potential truce as Trump pressures all sides\n",
      "to strike a deal CNN Exclusive Tapper presses Trump on Hamas’ response\n",
      "to his 20-point proposal Global outrage grows after two years of Gaza\n",
      "bombing. In Israel, it’s a different story Video See Trump’s text\n",
      "exchange about the ceasefire deal 1:47 Gaza flotilla activists claim\n",
      "jail mistreatment in Israel, fear for remaining prisoners Play Catch\n",
      "up on today's global news • Source: CNN Video Catch up on today’s\n",
      "global news • Video 0:32 Geshuang Chen via Reuters Video See the\n",
      "hazardous conditions on Mount Everest that stranded hundreds of\n",
      "trekkers 0:32 Mary E. Brunkow/Fred Ramsdell/Shimon Sakaguchi Nobel\n",
      "Prize for discovery that could revolutionize treatment of cancer and\n",
      "autoimmune disease Ritzau Scanpix/AFP Getty Images Nigerian star Tems\n",
      "wants to reshape the music industry Ad Feedback More top stories Lewis\n",
      "Joly/AP French appeals court revisits shocking Gisele Pelicot rape\n",
      "case Live Updates US Senate returns in search of a deal on sixth day\n",
      "of government shutdown Trump’s tariff revenue could help keep the\n",
      "government open. Why isn’t that happening? Hundreds of trekkers still\n",
      "awaiting rescue on blizzard-struck Everest in Tibet Analysis Why\n",
      "Mexico’s president is still so popular, one year on Nepalese villages\n",
      "swept away by rainfall and landslides, leaving at least 44 dead Video\n",
      "How a plane gets intercepted over restricted airspace 1:04 Travel\n",
      "Show all ANL/Shutterstock Welcome to life in a one-euro home town\n",
      "Clipped From Video Video A city built on baklava 1:56 Oct 6, 2025\n",
      "Bertha Wang/EPA-EFE/Shutterstock Mid-Autumn Festival: Mooncakes,\n",
      "lanterns and so much more Oct 6, 2025 Ad Feedback US immigration\n",
      "crackdown Carlos Barria/Reuters Judge blocks Trump from sending\n",
      "National Guard to Oregon • Analysis Analysis Aaron Schwartz/Reuters\n",
      "Analysis Trump pushes at the limits of the powers of the presidency Ad\n",
      "Feedback Art & Style Peter White/Getty Images Vogue now won’t show fur\n",
      "anywhere in its magazines Victor Virgile/Gamma-Rapho/Getty Images\n",
      "Meghan Markle, Anne Hathaway show up for Paris debut of fashion’s\n",
      "great romantic Photo Illustration by Jason Lancaster/CNN/Getty Images\n",
      "‘Ozempic face’ may be driving a cosmetic surgery boom Ad Feedback\n",
      "Business & Tech Show all Samuel Boivin/NurPhoto/Getty Images OpenAI’s\n",
      "massive new computing push will run on AMD chips in major challenge to\n",
      "Nvidia Jason Whitman/NurPhoto/Shutterstock Fifth Third and Comerica\n",
      "agree to form America’s ninth-largest bank Eva Marie\n",
      "Uzcategui/Bloomberg/Getty Images Trump calls on Google to bring back\n",
      "Univision to YouTube TV, calls it ‘very bad’ for GOP ahead of midterms\n",
      "Crime & Investigations Eric Gay/AP Four teens were murdered 34 years\n",
      "ago. Now, the likely killer is found St. Paul’s Fire District South\n",
      "Carolina authorities are investigating a fire that engulfed the home\n",
      "of state circuit court judge News 12 New Jersey/WABC Two teen girls\n",
      "went for a bike ride – and were fatally hit by a car. Now another teen\n",
      "faces murder charges Ad Feedback More US Politics Show all Photo\n",
      "Illustration by CNN Inside the Trump administration’s unprecedented\n",
      "purge of immigration judges Treasury names Social Security head as CEO\n",
      "of IRS Sports Report Show all Mark Baker/AP Former England rugby\n",
      "captain Lewis Moody says he’s been diagnosed with motor neuron disease\n",
      "Golfer saves par and ‘both hands’ in close encounter with alligator\n",
      "Health and Wellness Show all Maskot/Digital Vision/Getty Images It’s\n",
      "never too late: How older adults can restore optimal well-being,\n",
      "according to experts Checking your urine plays a key role in your\n",
      "daily hydration habits Ad Feedback Science & Discovery Show all Luka\n",
      "Batelic/PIXSELL/Sipa USA/File A supermoon is happening. Here’s how to\n",
      "see it 5 Nobel-worthy scientific advances that haven’t won the prize\n",
      "Climate & Extreme Weather Show all Daniel Chang/KFF Health News At\n",
      "least 170 US hospitals face major flood risk. Experts say Trump is\n",
      "making it worse. Delta plane took off into a hailstorm in 2023 after\n",
      "all weather data was not reviewed, report says Around the world State\n",
      "Border Guard Service/AP Balloons carrying smuggled cigarettes over\n",
      "Lithuania closed Vilnius Airport for hours Video Hong Kong’s Fire\n",
      "Dragon Dance lights up streets 0:34 Must-watch videos • Video 0:29\n",
      "getty images Video ‘The Fate of Ophelia’ music video premieres online\n",
      "0:29 • Video 0:29 Reuters Video Cyclist breaks record riding up Eiffel\n",
      "Tower 0:29 • Video 1:13 Getty Images Video Did Taylor Swift just shade\n",
      "Charli xcx on her new album? 1:13 • Video 1:55 Christine Cornell Video\n",
      "How ‘Diddy’ reacted to judge sentencing him to 50 months in prison\n",
      "1:55 • Video 1:49 CNN Video Man wrongfully convicted for double murder\n",
      "awarded nearly $15M 1:49 • Video 3:01 Hussein Rashid/CNN Video Former\n",
      "professor says why he walked away from Harvard 3:01 • Video 0:19\n",
      "Vatican Media Video Pope suggests US immigration policies not ‘pro-\n",
      "life’ 0:19 • Video 1:50 CNN Video Is matcha linked to iron deficiency?\n",
      "1:50 • Video 0:41 Dylan Crow Video Two Delta planes collide at\n",
      "LaGuardia airport 0:41 • Video 0:31 Global Sumud Flotilla Video\n",
      "Flotilla carrying aid to Gaza intercepted by IDF 0:31 • Video 1:51\n",
      "yasmin.nasir / Hekmat.life Video Influencer chef cooks up viral\n",
      "recipes for people in Gaza 1:51 • Video 1:02 Getty Images Video The\n",
      "current state of shutdown politics 1:02 World of Wonder Show all The\n",
      "Asahi Shimbun/Getty Images 24 of the world’s most unusual landscapes\n",
      "Whitworth Images/Moment RF/Getty Images Why only 400 people at a time\n",
      "can visit this paradise island Azhar Al-Rubaie Babylon was once an\n",
      "ancient wonder. Today it’s a very different story Lyle Johnson/Design\n",
      "Pics Editorial/Universal Images Group/Getty Images World’s most\n",
      "beautiful castles Ad Feedback More from CNN • Analysis Analysis\n",
      "Filippo Monteforte/AFP/Getty Images • Analysis Analysis Analysis Pope\n",
      "Leo faces MAGA ire after immigration and climate change remarks\n",
      "Protesters rally as Ecuador declares state of emergency in 10\n",
      "provinces Why Shohei Ohtani’s playoff pitching debut was so unique\n",
      "Balloons carrying smuggled cigarettes over Lithuania closed airport\n",
      "for hours Manchester’s Jewish community left reeling after deadly\n",
      "attack on holiest day Police admit they fatally shot one of the\n",
      "Manchester synagogue victims Taiwan says it will resist pressure from\n",
      "US to relocate half of its chip production Namibia sends in army to\n",
      "fight devastating wildfire in game reserve Subscribe Sign in My\n",
      "Account Settings Newsletters Topics you follow Sign out Your CNN\n",
      "account Sign in to your CNN account Live TV Listen Watch World Africa\n",
      "Americas Asia Australia China Europe India Middle East United Kingdom\n",
      "US Politics Trump Facts First CNN Polls 2025 Elections Business Tech\n",
      "Media Calculators Videos Markets Pre-markets After-Hours Fear & Greed\n",
      "Investing Markets Now Nightcap Health Life, But Better Fitness Food\n",
      "Sleep Mindfulness Relationships Entertainment Movies Television\n",
      "Celebrity Tech Innovate Foreseeable Future Mission: Ahead Work\n",
      "Transformed Innovative Cities Style Arts Design Fashion Architecture\n",
      "Luxury Beauty Video Travel Destinations Food & Drink Stay News Videos\n",
      "Sports Football Tennis Golf Motorsport US Sports Olympics Climbing\n",
      "Esports Hockey Science Space Life Unearthed Climate Solutions Weather\n",
      "Weather Video Climate Ukraine-Russia War Israel-Hamas War Features As\n",
      "Equals Call to Earth Freedom Project Impact Your World Inside Africa\n",
      "CNN Heroes Watch Live TV CNN Fast Shows A-Z CNN10 CNN Max CNN TV\n",
      "Schedules Listen CNN 5 Things Chasing Life with Dr. Sanjay Gupta The\n",
      "Assignment with Audie Cornish One Thing Tug of War CNN Political\n",
      "Briefing The Axe Files All There Is with Anderson Cooper All CNN Audio\n",
      "podcasts Games Daily Crossword Jumble Crossword Photo Shuffle\n",
      "Sudoblock Sudoku 5 Things Quiz About CNN Photos Investigations CNN\n",
      "Profiles CNN Leadership CNN Newsletters Work for CNN Watch Listen Live\n",
      "TV Follow CNN Subscribe Sign in My Account Settings Newsletters Topics\n",
      "you follow Sign out Your CNN account Sign in to your CNN account Terms\n",
      "of Use Privacy Policy Manage Cookies+ Ad Choices Accessibility & CC\n",
      "About Newsletters Transcripts © 2025 Cable News Network. A Warner\n",
      "Bros. Discovery Company. All Rights Reserved. CNN Sans ™ & © 2016\n",
      "Cable News Network. Our use of cookies and other technologies We, our\n",
      "affiliates , and our 49 partners store and access personal data, like\n",
      "browsing data or unique identifiers, on your device. Selecting \"Allow\n",
      "All\" enables tracking technologies to support the purposes shown under\n",
      "we and our partners process data to provide. Selecting \"Essential\n",
      "Cookies Only\" or withdrawing your consent will disable them. If\n",
      "trackers are disabled, some content and ads you see may not be as\n",
      "relevant to you. You can resurface this menu to change your choices or\n",
      "withdraw consent at any time by clicking the \"Manage Cookies+\" link on\n",
      "the bottom of the webpage. Your choices will have effect within our\n",
      "website and applications. For more details, refer to our Privacy\n",
      "Policy . We and our partners process data to provide: Store and/or\n",
      "access information on a device. Use limited data to select\n",
      "advertising. Use profiles to select personalised advertising. Create\n",
      "profiles for personalised advertising. Use profiles to select\n",
      "personalised content. Create profiles to personalise content. Measure\n",
      "advertising performance. Measure content performance. Understand\n",
      "audiences through statistics or combinations of data from different\n",
      "sources. Develop and improve services. List of Partners (vendors)\n",
      "Accept All Essential Cookies Only Show Purposes About Your Privacy We\n",
      "process your data to deliver content or advertisements and measure the\n",
      "delivery of such content or advertisements to extract insights about\n",
      "our website. We share this information with our partners on the basis\n",
      "of consent. You may exercise your right to consent, based on a\n",
      "specific purpose below or at a partner level in the link under each\n",
      "purpose. Some vendors may process your data based on their legitimate\n",
      "interests, which does not require your consent. You cannot object to\n",
      "tracking technologies placed to ensure security, prevent fraud, fix\n",
      "errors, or deliver and present advertising and content, and precise\n",
      "geolocation data and active scanning of device characteristics for\n",
      "identification may be used to support this purpose. This exception\n",
      "does not apply to targeted advertising. These choices will be signaled\n",
      "to our vendors participating in the Transparency and Consent\n",
      "Framework. The choices you make regarding the purposes and vendors\n",
      "listed in this notice are saved and stored locally on your device for\n",
      "a maximum duration of 1 year. More information Manage Consent\n",
      "Preferences Store and/or access information on a device 44 partners\n",
      "can use this purpose Store and/or access information on a device\n",
      "Cookies, device or similar online identifiers (e.g. login-based\n",
      "identifiers, randomly assigned identifiers, network based identifiers)\n",
      "together with other information (e.g. browser type and information,\n",
      "language, screen size, supported technologies etc.) can be stored or\n",
      "read on your device to recognise it each time it connects to an app or\n",
      "to a website, for one or several of the purposes presented here. List\n",
      "of IAB Vendors‎ | View Illustrations Use limited data to select\n",
      "advertising 35 partners can use this purpose Use limited data to\n",
      "select advertising Advertising presented to you on this service can be\n",
      "based on limited data, such as the website or app you are using, your\n",
      "non-precise location, your device type or which content you are (or\n",
      "have been) interacting with (for example, to limit the number of times\n",
      "an ad is presented to you). List of IAB Vendors‎ | View Illustrations\n",
      "Use profiles to select personalised advertising 32 partners can use\n",
      "this purpose Use profiles to select personalised advertising\n",
      "Advertising presented to you on this service can be based on your\n",
      "advertising profiles, which can reflect your activity on this service\n",
      "or other websites or apps (like the forms you submit, content you look\n",
      "at), possible interests and personal aspects. List of IAB Vendors‎\n",
      "| View Illustrations Create profiles for personalised advertising 35\n",
      "partners can use this purpose Create profiles for personalised\n",
      "advertising Information about your activity on this service (such as\n",
      "forms you submit, content you look at) can be stored and combined with\n",
      "other information about you (for example, information from your\n",
      "previous activity on this service and other websites or apps) or\n",
      "similar users. This is then used to build or improve a profile about\n",
      "you (that might include possible interests and personal aspects). Your\n",
      "profile can be used (also later) to present advertising that appears\n",
      "more relevant based on your possible interests by this and other\n",
      "entities. List of IAB Vendors‎ | View Illustrations Use profiles to\n",
      "select personalised content 6 partners can use this purpose Use\n",
      "profiles to select personalised content Content presented to you on\n",
      "this service can be based on your content personalisation profiles,\n",
      "which can reflect your activity on this or other services (for\n",
      "instance, the forms you submit, content you look at), possible\n",
      "interests and personal aspects. This can for example be used to adapt\n",
      "the order in which content is shown to you, so that it is even easier\n",
      "for you to find (non-advertising) content that matches your interests.\n",
      "List of IAB Vendors‎ | View Illustrations Create profiles to\n",
      "personalise content 9 partners can use this purpose Create profiles to\n",
      "personalise content Information about your activity on this service\n",
      "(for instance, forms you submit, non-advertising content you look at)\n",
      "can be stored and combined with other information about you (such as\n",
      "your previous activity on this service or other websites or apps) or\n",
      "similar users. This is then used to build or improve a profile about\n",
      "you (which might for example include possible interests and personal\n",
      "aspects). Your profile can be used (also later) to present content\n",
      "that appears more relevant based on your possible interests, such as\n",
      "by adapting the order in which content is shown to you, so that it is\n",
      "even easier for you to find content that matches your interests. List\n",
      "of IAB Vendors‎ | View Illustrations Measure advertising performance\n",
      "37 partners can use this purpose Measure advertising performance\n",
      "Information regarding which advertising is presented to you and how\n",
      "you interact with it can be used to determine how well an advert has\n",
      "worked for you or other users and whether the goals of the advertising\n",
      "were reached. For instance, whether you saw an ad, whether you clicked\n",
      "on it, whether it led you to buy a product or visit a website, etc.\n",
      "This is very helpful to understand the relevance of advertising\n",
      "campaigns. List of IAB Vendors‎ | View Illustrations Measure content\n",
      "performance 15 partners can use this purpose Measure content\n",
      "performance Information regarding which content is presented to you\n",
      "and how you interact with it can be used to determine whether the\n",
      "(non-advertising) content e.g. reached its intended audience and\n",
      "matched your interests. For instance, whether you read an article,\n",
      "watch a video, listen to a podcast or look at a product description,\n",
      "how long you spent on this service and the web pages you visit etc.\n",
      "This is very helpful to understand the relevance of (non-advertising)\n",
      "content that is shown to you. List of IAB Vendors‎ | View\n",
      "Illustrations Understand audiences through statistics or combinations\n",
      "of data from different sources 21 partners can use this purpose\n",
      "Understand audiences through statistics or combinations of data from\n",
      "different sources Reports can be generated based on the combination of\n",
      "data sets (like user profiles, statistics, market research, analytics\n",
      "data) regarding your interactions and those of other users with\n",
      "advertising or (non-advertising) content to identify common\n",
      "characteristics (for instance, to determine which target audiences are\n",
      "more receptive to an ad campaign or to certain contents). List of IAB\n",
      "Vendors‎ | View Illustrations Develop and improve services 35 partners\n",
      "can use this purpose Develop and improve services Information about\n",
      "your activity on this service, such as your interaction with ads or\n",
      "content, can be very helpful to improve products and services and to\n",
      "build new products and services based on user interactions, the type\n",
      "of audience, etc. This specific purpose does not include the\n",
      "development or improvement of user profiles and identifiers. List of\n",
      "IAB Vendors‎ | View Illustrations Ensure security, prevent and detect\n",
      "fraud, and fix errors 42 partners can use this special purpose Always\n",
      "Active Your data can be used to monitor for and prevent unusual and\n",
      "possibly fraudulent activity (for example, regarding advertising, ad\n",
      "clicks by bots), and ensure systems and processes work properly and\n",
      "securely. It can also be used to correct any problems you, the\n",
      "publisher or the advertiser may encounter in the delivery of content\n",
      "and ads and in your interaction with them. List of IAB Vendors‎ | View\n",
      "Illustrations Deliver and present advertising and content 36 partners\n",
      "can use this special purpose Always Active Certain information (like\n",
      "an IP address or device capabilities) is used to ensure the technical\n",
      "compatibility of the content or advertising, and to facilitate the\n",
      "transmission of the content or ad to your device. List of IAB Vendors‎\n",
      "| View Illustrations Save and communicate privacy choices 27 partners\n",
      "can use this special purpose Always Active The choices you make\n",
      "regarding the purposes and entities listed in this notice are saved\n",
      "and made available to those entities in the form of digital signals\n",
      "(such as a string of characters). This is necessary in order to enable\n",
      "both this service and those entities to respect such choices. List of\n",
      "IAB Vendors‎ | View Illustrations Match and combine data from other\n",
      "data sources 29 partners can use this feature Always Active\n",
      "Information about your activity on this service may be matched and\n",
      "combined with other information relating to you and originating from\n",
      "various sources (for instance your activity on a separate online\n",
      "service, your use of a loyalty card in-store, or your answers to a\n",
      "survey), in support of the purposes explained in this notice. List of\n",
      "IAB Vendors‎ Link different devices 28 partners can use this feature\n",
      "Always Active In support of the purposes explained in this notice,\n",
      "your device might be considered as likely linked to other devices that\n",
      "belong to you or your household (for instance because you are logged\n",
      "in to the same service on both your phone and your computer, or\n",
      "because you may use the same Internet connection on both devices).\n",
      "List of IAB Vendors‎ Identify devices based on information transmitted\n",
      "automatically 35 partners can use this feature Always Active Your\n",
      "device might be distinguished from other devices based on information\n",
      "it automatically sends when accessing the Internet (for instance, the\n",
      "IP address of your Internet connection or the type of browser you are\n",
      "using) in support of the purposes exposed in this notice. List of IAB\n",
      "Vendors‎ Strictly Necessary Cookies Always Active These cookies are\n",
      "necessary for the website to function and cannot be switched off in\n",
      "our systems. You can set your browser to block or alert you about\n",
      "these cookies, but some parts of the site will not work. Back Button\n",
      "Cookie List Search Icon Filter Icon Clear checkbox label label Apply\n",
      "Cancel Consent Leg.Interest checkbox label label checkbox label label\n",
      "checkbox label label Allow All Essential Cookies Only Save Preferences\n"
     ]
    }
   ],
   "source": [
    "import textwrap\n",
    "print(textwrap.fill(text))"
   ]
  },
  {
   "cell_type": "code",
   "execution_count": 38,
   "metadata": {},
   "outputs": [],
   "source": [
    "all_tools = tools + [tool_push]"
   ]
  },
  {
   "cell_type": "code",
   "execution_count": 40,
   "metadata": {},
   "outputs": [],
   "source": [
    "\n",
    "llm = ChatOpenAI(model=\"gpt-4o-mini\")\n",
    "llm_with_tools = llm.bind_tools(all_tools)\n",
    "\n",
    "\n",
    "def chatbot(state: State):\n",
    "    return {\"messages\": [llm_with_tools.invoke(state[\"messages\"])]}\n"
   ]
  },
  {
   "cell_type": "code",
   "execution_count": 41,
   "metadata": {},
   "outputs": [],
   "source": [
    "\n",
    "graph_builder = StateGraph(State)\n",
    "graph_builder.add_node(\"chatbot\", chatbot)\n",
    "graph_builder.add_node(\"tools\", ToolNode(tools=all_tools))\n",
    "graph_builder.add_conditional_edges( \"chatbot\", tools_condition, \"tools\")\n",
    "graph_builder.add_edge(\"tools\", \"chatbot\")\n",
    "graph_builder.add_edge(START, \"chatbot\")\n",
    "\n",
    "memory = MemorySaver()\n",
    "graph = graph_builder.compile(checkpointer=memory)\n",
    "# display(Image(graph.get_graph().draw_mermaid_png()))"
   ]
  },
  {
   "cell_type": "code",
   "execution_count": 33,
   "metadata": {},
   "outputs": [
    {
     "data": {
      "text/markdown": [
       "```mermaid\n",
       "---\n",
       "config:\n",
       "  flowchart:\n",
       "    curve: linear\n",
       "---\n",
       "graph TD;\n",
       "\t__start__([<p>__start__</p>]):::first\n",
       "\tchatbot(chatbot)\n",
       "\ttools(tools)\n",
       "\t__end__([<p>__end__</p>]):::last\n",
       "\t__start__ --> chatbot;\n",
       "\tchatbot -.-> __end__;\n",
       "\tchatbot -.-> tools;\n",
       "\ttools --> chatbot;\n",
       "\tclassDef default fill:#f2f0ff,line-height:1.2\n",
       "\tclassDef first fill-opacity:0\n",
       "\tclassDef last fill:#bfb6fc\n",
       "\n",
       "```"
      ],
      "text/plain": [
       "<IPython.core.display.Markdown object>"
      ]
     },
     "metadata": {},
     "output_type": "display_data"
    }
   ],
   "source": [
    "from IPython.display import Markdown\n",
    "\n",
    "display(Markdown(f\"```mermaid\\n{graph.get_graph().draw_mermaid()}\\n```\"))"
   ]
  },
  {
   "cell_type": "code",
   "execution_count": 42,
   "metadata": {},
   "outputs": [
    {
     "name": "stdout",
     "output_type": "stream",
     "text": [
      "* Running on local URL:  http://127.0.0.1:7861\n",
      "* To create a public link, set `share=True` in `launch()`.\n"
     ]
    },
    {
     "data": {
      "text/html": [
       "<div><iframe src=\"http://127.0.0.1:7861/\" width=\"100%\" height=\"500\" allow=\"autoplay; camera; microphone; clipboard-read; clipboard-write;\" frameborder=\"0\" allowfullscreen></iframe></div>"
      ],
      "text/plain": [
       "<IPython.core.display.HTML object>"
      ]
     },
     "metadata": {},
     "output_type": "display_data"
    },
    {
     "data": {
      "text/plain": []
     },
     "execution_count": 42,
     "metadata": {},
     "output_type": "execute_result"
    }
   ],
   "source": [
    "config = {\"configurable\": {\"thread_id\": \"10\"}}\n",
    "\n",
    "async def chat(user_input: str, history):\n",
    "    result = await graph.ainvoke({\"messages\": [{\"role\": \"user\", \"content\": user_input}]}, config=config)\n",
    "    return result[\"messages\"][-1].content\n",
    "\n",
    "\n",
    "gr.ChatInterface(chat, type=\"messages\").launch()"
   ]
  },
  {
   "cell_type": "code",
   "execution_count": null,
   "metadata": {},
   "outputs": [],
   "source": []
  }
 ],
 "metadata": {
  "kernelspec": {
   "display_name": ".venv",
   "language": "python",
   "name": "python3"
  },
  "language_info": {
   "codemirror_mode": {
    "name": "ipython",
    "version": 3
   },
   "file_extension": ".py",
   "mimetype": "text/x-python",
   "name": "python",
   "nbconvert_exporter": "python",
   "pygments_lexer": "ipython3",
   "version": "3.12.11"
  }
 },
 "nbformat": 4,
 "nbformat_minor": 2
}
