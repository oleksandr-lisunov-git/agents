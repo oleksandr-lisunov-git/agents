{
 "cells": [
  {
   "cell_type": "markdown",
   "metadata": {},
   "source": [
    "# Welcome to the start of your adventure in Agentic AI"
   ]
  },
  {
   "cell_type": "markdown",
   "metadata": {},
   "source": [
    "<table style=\"margin: 0; text-align: left; width:100%\">\n",
    "    <tr>\n",
    "        <td style=\"width: 150px; height: 150px; vertical-align: middle;\">\n",
    "            <img src=\"../assets/stop.png\" width=\"150\" height=\"150\" style=\"display: block;\" />\n",
    "        </td>\n",
    "        <td>\n",
    "            <h2 style=\"color:#ff7800;\">Are you ready for action??</h2>\n",
    "            <span style=\"color:#ff7800;\">Have you completed all the setup steps in the <a href=\"../setup/\">setup</a> folder?<br/>\n",
    "            Have you read the <a href=\"../README.md\">README</a>? Many common questions are answered here!<br/>\n",
    "            Have you checked out the guides in the <a href=\"../guides/01_intro.ipynb\">guides</a> folder?<br/>\n",
    "            Well in that case, you're ready!!\n",
    "            </span>\n",
    "        </td>\n",
    "    </tr>\n",
    "</table>"
   ]
  },
  {
   "cell_type": "markdown",
   "metadata": {},
   "source": [
    "<table style=\"margin: 0; text-align: left; width:100%\">\n",
    "    <tr>\n",
    "        <td style=\"width: 150px; height: 150px; vertical-align: middle;\">\n",
    "            <img src=\"../assets/tools.png\" width=\"150\" height=\"150\" style=\"display: block;\" />\n",
    "        </td>\n",
    "        <td>\n",
    "            <h2 style=\"color:#00bfff;\">This code is a live resource - keep an eye out for my updates</h2>\n",
    "            <span style=\"color:#00bfff;\">I push updates regularly. As people ask questions or have problems, I add more examples and improve explanations. As a result, the code below might not be identical to the videos, as I've added more steps and better comments. Consider this like an interactive book that accompanies the lectures.<br/><br/>\n",
    "            I try to send emails regularly with important updates related to the course. You can find this in the 'Announcements' section of Udemy in the left sidebar. You can also choose to receive my emails via your Notification Settings in Udemy. I'm respectful of your inbox and always try to add value with my emails!\n",
    "            </span>\n",
    "        </td>\n",
    "    </tr>\n",
    "</table>"
   ]
  },
  {
   "cell_type": "markdown",
   "metadata": {},
   "source": [
    "### And please do remember to contact me if I can help\n",
    "\n",
    "And I love to connect: https://www.linkedin.com/in/eddonner/\n",
    "\n",
    "\n",
    "### New to Notebooks like this one? Head over to the guides folder!\n",
    "\n",
    "Just to check you've already added the Python and Jupyter extensions to Cursor, if not already installed:\n",
    "- Open extensions (View >> extensions)\n",
    "- Search for python, and when the results show, click on the ms-python one, and Install it if not already installed\n",
    "- Search for jupyter, and when the results show, click on the Microsoft one, and Install it if not already installed  \n",
    "Then View >> Explorer to bring back the File Explorer.\n",
    "\n",
    "And then:\n",
    "1. Click where it says \"Select Kernel\" near the top right, and select the option called `.venv (Python 3.12.9)` or similar, which should be the first choice or the most prominent choice. You may need to choose \"Python Environments\" first.\n",
    "2. Click in each \"cell\" below, starting with the cell immediately below this text, and press Shift+Enter to run\n",
    "3. Enjoy!\n",
    "\n",
    "After you click \"Select Kernel\", if there is no option like `.venv (Python 3.12.9)` then please do the following:  \n",
    "1. On Mac: From the Cursor menu, choose Settings >> VS Code Settings (NOTE: be sure to select `VSCode Settings` not `Cursor Settings`);  \n",
    "On Windows PC: From the File menu, choose Preferences >> VS Code Settings(NOTE: be sure to select `VSCode Settings` not `Cursor Settings`)  \n",
    "2. In the Settings search bar, type \"venv\"  \n",
    "3. In the field \"Path to folder with a list of Virtual Environments\" put the path to the project root, like C:\\Users\\username\\projects\\agents (on a Windows PC) or /Users/username/projects/agents (on Mac or Linux).  \n",
    "And then try again.\n",
    "\n",
    "Having problems with missing Python versions in that list? Have you ever used Anaconda before? It might be interferring. Quit Cursor, bring up a new command line, and make sure that your Anaconda environment is deactivated:    \n",
    "`conda deactivate`  \n",
    "And if you still have any problems with conda and python versions, it's possible that you will need to run this too:  \n",
    "`conda config --set auto_activate_base false`  \n",
    "and then from within the Agents directory, you should be able to run `uv python list` and see the Python 3.12 version."
   ]
  },
  {
   "cell_type": "code",
   "execution_count": 1,
   "metadata": {},
   "outputs": [],
   "source": [
    "# First let's do an import. If you get an Import Error, double check that your Kernel is correct..\n",
    "\n",
    "from dotenv import load_dotenv\n"
   ]
  },
  {
   "cell_type": "code",
   "execution_count": 4,
   "metadata": {},
   "outputs": [
    {
     "data": {
      "text/plain": [
       "True"
      ]
     },
     "execution_count": 4,
     "metadata": {},
     "output_type": "execute_result"
    }
   ],
   "source": [
    "# Next it's time to load the API keys into environment variables\n",
    "# If this returns false, see the next cell!\n",
    "\n",
    "load_dotenv(override=True)"
   ]
  },
  {
   "cell_type": "markdown",
   "metadata": {},
   "source": [
    "### Wait, did that just output `False`??\n",
    "\n",
    "If so, the most common reason is that you didn't save your `.env` file after adding the key! Be sure to have saved.\n",
    "\n",
    "Also, make sure the `.env` file is named precisely `.env` and is in the project root directory (`agents`)\n",
    "\n",
    "By the way, your `.env` file should have a stop symbol next to it in Cursor on the left, and that's actually a good thing: that's Cursor saying to you, \"hey, I realize this is a file filled with secret information, and I'm not going to send it to an external AI to suggest changes, because your keys should not be shown to anyone else.\""
   ]
  },
  {
   "cell_type": "markdown",
   "metadata": {},
   "source": [
    "<table style=\"margin: 0; text-align: left; width:100%\">\n",
    "    <tr>\n",
    "        <td style=\"width: 150px; height: 150px; vertical-align: middle;\">\n",
    "            <img src=\"../assets/stop.png\" width=\"150\" height=\"150\" style=\"display: block;\" />\n",
    "        </td>\n",
    "        <td>\n",
    "            <h2 style=\"color:#ff7800;\">Final reminders</h2>\n",
    "            <span style=\"color:#ff7800;\">1. If you're not confident about Environment Variables or Web Endpoints / APIs, please read Topics 3 and 5 in this <a href=\"../guides/04_technical_foundations.ipynb\">technical foundations guide</a>.<br/>\n",
    "            2. If you want to use AIs other than OpenAI, like Gemini, DeepSeek or Ollama (free), please see the first section in this <a href=\"../guides/09_ai_apis_and_ollama.ipynb\">AI APIs guide</a>.<br/>\n",
    "            3. If you ever get a Name Error in Python, you can always fix it immediately; see the last section of this <a href=\"../guides/06_python_foundations.ipynb\">Python Foundations guide</a> and follow both tutorials and exercises.<br/>\n",
    "            </span>\n",
    "        </td>\n",
    "    </tr>\n",
    "</table>"
   ]
  },
  {
   "cell_type": "code",
   "execution_count": 5,
   "metadata": {},
   "outputs": [
    {
     "name": "stdout",
     "output_type": "stream",
     "text": [
      "OpenAI API Key exists and begins sk-proj-\n"
     ]
    }
   ],
   "source": [
    "# Check the key - if you're not using OpenAI, check whichever key you're using! Ollama doesn't need a key.\n",
    "\n",
    "import os\n",
    "openai_api_key = os.getenv('OPENAI_API_KEY')\n",
    "\n",
    "if openai_api_key:\n",
    "    print(f\"OpenAI API Key exists and begins {openai_api_key[:8]}\")\n",
    "else:\n",
    "    print(\"OpenAI API Key not set - please head to the troubleshooting guide in the setup folder\")\n",
    "    \n"
   ]
  },
  {
   "cell_type": "code",
   "execution_count": 6,
   "metadata": {},
   "outputs": [],
   "source": [
    "# And now - the all important import statement\n",
    "# If you get an import error - head over to troubleshooting in the Setup folder\n",
    "# Even for other LLM providers like Gemini, you still use this OpenAI import - see Guide 9 for why\n",
    "\n",
    "from openai import OpenAI"
   ]
  },
  {
   "cell_type": "code",
   "execution_count": 7,
   "metadata": {},
   "outputs": [],
   "source": [
    "# And now we'll create an instance of the OpenAI class\n",
    "# If you're not sure what it means to create an instance of a class - head over to the guides folder (guide 6)!\n",
    "# If you get a NameError - head over to the guides folder (guide 6)to learn about NameErrors - always instantly fixable\n",
    "# If you're not using OpenAI, you just need to slightly modify this - precise instructions are in the AI APIs guide (guide 9)\n",
    "\n",
    "openai = OpenAI()"
   ]
  },
  {
   "cell_type": "code",
   "execution_count": 8,
   "metadata": {},
   "outputs": [],
   "source": [
    "# Create a list of messages in the familiar OpenAI format\n",
    "\n",
    "messages = [{\"role\": \"user\", \"content\": \"What is 2+2?\"}]"
   ]
  },
  {
   "cell_type": "code",
   "execution_count": 9,
   "metadata": {},
   "outputs": [
    {
     "name": "stdout",
     "output_type": "stream",
     "text": [
      "2 + 2 equals 4.\n"
     ]
    }
   ],
   "source": [
    "# And now call it! Any problems, head to the troubleshooting guide\n",
    "# This uses GPT 4.1 nano, the incredibly cheap model\n",
    "# The APIs guide (guide 9) has exact instructions for using even cheaper or free alternatives to OpenAI\n",
    "# If you get a NameError, head to the guides folder (guide 6) to learn about NameErrors - always instantly fixable\n",
    "\n",
    "response = openai.chat.completions.create(\n",
    "    model=\"gpt-4.1-nano\",\n",
    "    messages=messages\n",
    ")\n",
    "\n",
    "print(response.choices[0].message.content)\n"
   ]
  },
  {
   "cell_type": "code",
   "execution_count": 11,
   "metadata": {},
   "outputs": [],
   "source": [
    "# And now - let's ask for a question:\n",
    "\n",
    "question = \"Please propose a hard, challenging question to assess someone's IQ. Respond only with the question.\"\n",
    "messages = [{\"role\": \"user\", \"content\": question}]\n"
   ]
  },
  {
   "cell_type": "code",
   "execution_count": 12,
   "metadata": {},
   "outputs": [
    {
     "name": "stdout",
     "output_type": "stream",
     "text": [
      "If two trains start from two stations 300 miles apart at the same time, one traveling at 60 mph and the other at 40 mph, how long will it take for them to be 50 miles apart again after they meet?\n"
     ]
    }
   ],
   "source": [
    "# ask it - this uses GPT 4.1 mini, still cheap but more powerful than nano\n",
    "\n",
    "response = openai.chat.completions.create(\n",
    "    model=\"gpt-4.1-mini\",\n",
    "    messages=messages\n",
    ")\n",
    "\n",
    "question = response.choices[0].message.content\n",
    "\n",
    "print(question)\n"
   ]
  },
  {
   "cell_type": "code",
   "execution_count": 13,
   "metadata": {},
   "outputs": [],
   "source": [
    "# form a new messages list\n",
    "messages = [{\"role\": \"user\", \"content\": question}]\n"
   ]
  },
  {
   "cell_type": "code",
   "execution_count": 14,
   "metadata": {},
   "outputs": [
    {
     "name": "stdout",
     "output_type": "stream",
     "text": [
      "Let's analyze the problem step-by-step.\n",
      "\n",
      "### Given:\n",
      "- Two stations are 300 miles apart.\n",
      "- Two trains start at the same time from these two stations, traveling towards each other.\n",
      "- Train A speed = 60 mph\n",
      "- Train B speed = 40 mph\n",
      "\n",
      "### First, find when they meet.\n",
      "\n",
      "The trains travel towards each other, so their relative speed is:\n",
      "\\[\n",
      "60 + 40 = 100 \\text{ mph}\n",
      "\\]\n",
      "\n",
      "Time to meet:\n",
      "\\[\n",
      "t_{meet} = \\frac{300\\, \\text{miles}}{100\\, \\text{mph}} = 3 \\text{ hours}\n",
      "\\]\n",
      "\n",
      "At \\(t=3\\) hours, the trains meet.\n",
      "\n",
      "---\n",
      "\n",
      "### After they meet:\n",
      "\n",
      "Now, they continue traveling **in the same directions** (each keeps going), so the distance between them after meeting will start to increase.\n",
      "\n",
      "---\n",
      "\n",
      "### What is the goal?\n",
      "Find time \\(t\\) after meeting when the trains are **50 miles apart again**.\n",
      "\n",
      "---\n",
      "\n",
      "### Let's define variables.\n",
      "\n",
      "- Let \\(t\\) = time (in hours) after the trains meet.\n",
      "\n",
      "- After meeting:\n",
      "    - Train A continues forward at 60 mph.\n",
      "    - Train B continues forward at 40 mph, but in the opposite direction (because they started from opposite stations), meaning the distance between trains is increasing.\n",
      "\n",
      "---\n",
      "\n",
      "### Distance between trains after they meet:\n",
      "\n",
      "Since they are going in opposite directions:\n",
      "\n",
      "The rate at which distance between them increases is:\n",
      "\\[\n",
      "60 + 40 = 100 \\text{ mph}\n",
      "\\]\n",
      "\n",
      "At meeting point (\\(t=0\\) from the meeting time), the distance is 0.\n",
      "\n",
      "After \\(t\\) hours:\n",
      "\\[\n",
      "\\text{Distance} = 100 \\times t\n",
      "\\]\n",
      "\n",
      "---\n",
      "\n",
      "### Find \\(t\\) such that:\n",
      "\\[\n",
      "100 t = 50\n",
      "\\]\n",
      "\\[\n",
      "t = \\frac{50}{100} = 0.5 \\text{ hours}\n",
      "\\]\n",
      "\n",
      "---\n",
      "\n",
      "### Final answer:\n",
      "It takes **0.5 hours (30 minutes)** after the trains meet for them to be 50 miles apart again.\n",
      "\n",
      "---\n",
      "\n",
      "### Summary:\n",
      "- Trains meet after 3 hours.\n",
      "- After meeting, trains separate at 100 mph.\n",
      "- To be 50 miles apart after meeting, time = 0.5 hours.\n"
     ]
    }
   ],
   "source": [
    "# Ask it again\n",
    "\n",
    "response = openai.chat.completions.create(\n",
    "    model=\"gpt-4.1-mini\",\n",
    "    messages=messages\n",
    ")\n",
    "\n",
    "answer = response.choices[0].message.content\n",
    "print(answer)\n"
   ]
  },
  {
   "cell_type": "code",
   "execution_count": 15,
   "metadata": {},
   "outputs": [
    {
     "data": {
      "text/markdown": [
       "Let's analyze the problem step-by-step.\n",
       "\n",
       "### Given:\n",
       "- Two stations are 300 miles apart.\n",
       "- Two trains start at the same time from these two stations, traveling towards each other.\n",
       "- Train A speed = 60 mph\n",
       "- Train B speed = 40 mph\n",
       "\n",
       "### First, find when they meet.\n",
       "\n",
       "The trains travel towards each other, so their relative speed is:\n",
       "\\[\n",
       "60 + 40 = 100 \\text{ mph}\n",
       "\\]\n",
       "\n",
       "Time to meet:\n",
       "\\[\n",
       "t_{meet} = \\frac{300\\, \\text{miles}}{100\\, \\text{mph}} = 3 \\text{ hours}\n",
       "\\]\n",
       "\n",
       "At \\(t=3\\) hours, the trains meet.\n",
       "\n",
       "---\n",
       "\n",
       "### After they meet:\n",
       "\n",
       "Now, they continue traveling **in the same directions** (each keeps going), so the distance between them after meeting will start to increase.\n",
       "\n",
       "---\n",
       "\n",
       "### What is the goal?\n",
       "Find time \\(t\\) after meeting when the trains are **50 miles apart again**.\n",
       "\n",
       "---\n",
       "\n",
       "### Let's define variables.\n",
       "\n",
       "- Let \\(t\\) = time (in hours) after the trains meet.\n",
       "\n",
       "- After meeting:\n",
       "    - Train A continues forward at 60 mph.\n",
       "    - Train B continues forward at 40 mph, but in the opposite direction (because they started from opposite stations), meaning the distance between trains is increasing.\n",
       "\n",
       "---\n",
       "\n",
       "### Distance between trains after they meet:\n",
       "\n",
       "Since they are going in opposite directions:\n",
       "\n",
       "The rate at which distance between them increases is:\n",
       "\\[\n",
       "60 + 40 = 100 \\text{ mph}\n",
       "\\]\n",
       "\n",
       "At meeting point (\\(t=0\\) from the meeting time), the distance is 0.\n",
       "\n",
       "After \\(t\\) hours:\n",
       "\\[\n",
       "\\text{Distance} = 100 \\times t\n",
       "\\]\n",
       "\n",
       "---\n",
       "\n",
       "### Find \\(t\\) such that:\n",
       "\\[\n",
       "100 t = 50\n",
       "\\]\n",
       "\\[\n",
       "t = \\frac{50}{100} = 0.5 \\text{ hours}\n",
       "\\]\n",
       "\n",
       "---\n",
       "\n",
       "### Final answer:\n",
       "It takes **0.5 hours (30 minutes)** after the trains meet for them to be 50 miles apart again.\n",
       "\n",
       "---\n",
       "\n",
       "### Summary:\n",
       "- Trains meet after 3 hours.\n",
       "- After meeting, trains separate at 100 mph.\n",
       "- To be 50 miles apart after meeting, time = 0.5 hours."
      ],
      "text/plain": [
       "<IPython.core.display.Markdown object>"
      ]
     },
     "metadata": {},
     "output_type": "display_data"
    }
   ],
   "source": [
    "from IPython.display import Markdown, display\n",
    "\n",
    "display(Markdown(answer))\n",
    "\n"
   ]
  },
  {
   "cell_type": "markdown",
   "metadata": {},
   "source": [
    "# Congratulations!\n",
    "\n",
    "That was a small, simple step in the direction of Agentic AI, with your new environment!\n",
    "\n",
    "Next time things get more interesting..."
   ]
  },
  {
   "cell_type": "markdown",
   "metadata": {},
   "source": [
    "<table style=\"margin: 0; text-align: left; width:100%\">\n",
    "    <tr>\n",
    "        <td style=\"width: 150px; height: 150px; vertical-align: middle;\">\n",
    "            <img src=\"../assets/exercise.png\" width=\"150\" height=\"150\" style=\"display: block;\" />\n",
    "        </td>\n",
    "        <td>\n",
    "            <h2 style=\"color:#ff7800;\">Exercise</h2>\n",
    "            <span style=\"color:#ff7800;\">Now try this commercial application:<br/>\n",
    "            First ask the LLM to pick a business area that might be worth exploring for an Agentic AI opportunity.<br/>\n",
    "            Then ask the LLM to present a pain-point in that industry - something challenging that might be ripe for an Agentic solution.<br/>\n",
    "            Finally have 3 third LLM call propose the Agentic AI solution. <br/>\n",
    "            We will cover this at up-coming labs, so don't worry if you're unsure.. just give it a try!\n",
    "            </span>\n",
    "        </td>\n",
    "    </tr>\n",
    "</table>"
   ]
  },
  {
   "cell_type": "code",
   "execution_count": 16,
   "metadata": {},
   "outputs": [
    {
     "name": "stdout",
     "output_type": "stream",
     "text": [
      "Certainly! Here is a detailed **Agentic AI solution proposal** addressing the pain-point of **Real-Time Supply Chain Disruption Management and Recovery**, along with a product concept and business model outline.\n",
      "\n",
      "---\n",
      "\n",
      "# Agentic AI Solution Proposal: Real-Time Supply Chain Disruption Management and Recovery\n",
      "\n",
      "### 1. Problem Summary  \n",
      "Supply chains face unpredictable disruptions that cascade into costly delays, inefficiencies, and service failures. Current human-centric and fragmented software approaches struggle with the volume, velocity, and complexity of data to proactively manage and recover from disruptions.\n",
      "\n",
      "### 2. Agentic AI Solution Overview  \n",
      "Deploy an AI agent ecosystem capable of autonomous real-time monitoring, prediction, decision-making, execution, and coordination across the entire supply chain network to rapidly detect disruptions and implement recovery plans with minimal human intervention.\n",
      "\n",
      "---\n",
      "\n",
      "## Core Features of the Agentic AI System\n",
      "\n",
      "### 1. **Continuous Real-Time Monitoring Agent**\n",
      "- Aggregates and analyzes diverse data streams: IoT sensors, shipment tracking systems, weather APIs, geopolitical news, port/transport statuses, supplier activity, customs delays, etc.\n",
      "- Identifies early-warning signals of disruptions (e.g., port congestion, weather events, supplier shutdowns) using anomaly detection and predictive analytics.\n",
      "\n",
      "### 2. **Disruption Prediction and Risk Assessment Agent**\n",
      "- Uses historical and current data to forecast emerging risks and disruption probabilities.\n",
      "- Quantifies potential impact on delivery times, inventory levels, and costs.\n",
      "- Prioritizes risks based on severity and likelihood.\n",
      "\n",
      "### 3. **Autonomous Decision-Making Agent**\n",
      "- Generates multiple recovery scenarios automatically (reroute shipments, reschedule production, prioritize certain inventory).\n",
      "- Employs reinforcement learning to select optimal actions balancing cost, speed, and service commitments.\n",
      "- Accounts for constraints such as transportation capacity, contractual obligations, and inventory availability.\n",
      "\n",
      "### 4. **Multi-Agent Coordination and Negotiation Agent**\n",
      "- Communicates and negotiates autonomously with external stakeholders (suppliers, logistics providers) via AI agents representing each party.\n",
      "- Adjusts orders, delivery windows, and resource allocation dynamically.\n",
      "- Facilitates collaborative, synchronized decision execution across the network to maximize overall resilience.\n",
      "\n",
      "### 5. **Execution and Monitoring Agent**\n",
      "- Implements selected recovery actions in connected IT systems (TMS, WMS, ERP).\n",
      "- Continuously tracks outcomes and updates risk assessments.\n",
      "- Learns from outcomes to improve future disruption handling.\n",
      "\n",
      "---\n",
      "\n",
      "## Product Concept: **SupplyNet AI** – Dynamic Supply Chain Resilience Platform\n",
      "\n",
      "### Key Components  \n",
      "- **AI Dashboard:** Intuitive interface providing real-time visibility and alerts with actionable insights.  \n",
      "- **Agentic Core:** Autonomous AI agents running 24/7 for disruption sensing, forecasting, and recovery management.  \n",
      "- **API Integrations:** Seamless connection into existing supply chain systems (Warehouse Management, Transportation Management, ERP).  \n",
      "- **Multi-Stakeholder Portal:** Enables controlled collaboration, information sharing, and negotiation amongst stakeholders via AI mediation.  \n",
      "- **Learning Engine:** Continuously refines predictive models and decision heuristics from operational data and feedback.\n",
      "\n",
      "### Use Case Example  \n",
      "A shipment is delayed due to unexpected customs backlog. SupplyNet AI agents instantly detect a surge in clearance times from port data, forecast cascading delays across downstream deliveries, and autonomously negotiate expedited shipping terms with alternate carriers. Simultaneously, inventory management agents reprioritize stock allocation to fulfill priority customers, minimizing service impact.\n",
      "\n",
      "---\n",
      "\n",
      "## Business Model Outline\n",
      "\n",
      "### Target Customers  \n",
      "- Large multinational companies with complex global supply chains (manufacturing, retail, pharma, electronics).  \n",
      "- Mid-sized firms seeking scalable AI-driven resilience solutions.  \n",
      "- 3PL and logistics service providers looking to enhance service guarantees.\n",
      "\n",
      "### Pricing Model  \n",
      "- **SaaS subscription-based pricing** tiered by complexity (number of agents, integrations, transaction volume).  \n",
      "- **Professional services** for onboarding, system integration, and customization.  \n",
      "- **Outcome-based pricing** options where cost savings or recovery speed improvements share defined returns between vendor and client.\n",
      "\n",
      "### Go-to-Market Strategy  \n",
      "- Pilot projects with select industry leaders to validate ROI and gather use case success stories.  \n",
      "- Partnership with ERP/TMS providers to embed Agentic AI modules as value-adds.  \n",
      "- Content marketing focused on supply chain risk mitigation and AI-driven resilience.  \n",
      "- Participation in industry events, webinars, and collaborations with supply chain consortia.\n",
      "\n",
      "### Competitive Advantage  \n",
      "- Fully autonomous multi-agent ecosystem instead of reactive dashboards or manual decision aids.  \n",
      "- Ability to negotiate and coordinate across multiple independent stakeholders dynamically.  \n",
      "- Continuous learning capability leading to progressively improved resilience with usage.\n",
      "\n",
      "---\n",
      "\n",
      "If you'd like, I can help you expand this into detailed technical architecture, user journey maps, or a deeper market analysis! Would you like to proceed?\n"
     ]
    }
   ],
   "source": [
    "# First create the messages:\n",
    "\n",
    "messages = [{\"role\": \"user\", \"content\": \"Pick a business area that might be worth exploring for an Agentic AI opportunity\"}]\n",
    "\n",
    "# Then make the first call:\n",
    "\n",
    "response = openai.chat.completions.create(\n",
    "    model=\"gpt-4.1-mini\",\n",
    "    messages=messages\n",
    ")\n",
    "\n",
    "# Then read the business idea:\n",
    "\n",
    "business_idea = response.choices[0].message.content\n",
    "\n",
    "# And repeat! In the next message, include the business idea within the message\n",
    "\n",
    "messages = [{\"role\": \"user\", \"content\": f\"Present a pain-point in {business_idea} industry - something challenging that might be ripe for an Agentic solution\"}]\n",
    "\n",
    "response = openai.chat.completions.create(\n",
    "    model=\"gpt-4.1-mini\",\n",
    "    messages=messages\n",
    ")\n",
    "\n",
    "# Then read the pain point:\n",
    "\n",
    "pain_point = response.choices[0].message.content\n",
    "\n",
    "# And repeat! In the next message, include the business idea within the message\n",
    "\n",
    "messages = [{\"role\": \"user\", \"content\": f\"Propose the Agentic AI solution for {business_idea} industry and {pain_point} pain point\"}]\n",
    "\n",
    "response = openai.chat.completions.create(\n",
    "    model=\"gpt-4.1-mini\",\n",
    "    messages=messages\n",
    ")\n",
    "\n",
    "# Then read the Agentic AI solution:\n",
    "\n",
    "agentic_ai_solution = response.choices[0].message.content\n",
    "\n",
    "print(agentic_ai_solution)"
   ]
  },
  {
   "cell_type": "markdown",
   "metadata": {},
   "source": []
  }
 ],
 "metadata": {
  "kernelspec": {
   "display_name": ".venv",
   "language": "python",
   "name": "python3"
  },
  "language_info": {
   "codemirror_mode": {
    "name": "ipython",
    "version": 3
   },
   "file_extension": ".py",
   "mimetype": "text/x-python",
   "name": "python",
   "nbconvert_exporter": "python",
   "pygments_lexer": "ipython3",
   "version": "3.12.11"
  }
 },
 "nbformat": 4,
 "nbformat_minor": 2
}
